{
  "nbformat": 4,
  "nbformat_minor": 0,
  "metadata": {
    "colab": {
      "provenance": [],
      "authorship_tag": "ABX9TyNWqIUCAa9N2X5PYRLtwjrW",
      "include_colab_link": true
    },
    "kernelspec": {
      "name": "python3",
      "display_name": "Python 3"
    },
    "language_info": {
      "name": "python"
    }
  },
  "cells": [
    {
      "cell_type": "markdown",
      "metadata": {
        "id": "view-in-github",
        "colab_type": "text"
      },
      "source": [
        "<a href=\"https://colab.research.google.com/github/Tinhoboy/Programa-o/blob/master/transform_spaces.ipynb\" target=\"_parent\"><img src=\"https://colab.research.google.com/assets/colab-badge.svg\" alt=\"Open In Colab\"/></a>"
      ]
    },
    {
      "cell_type": "code",
      "execution_count": 1,
      "metadata": {
        "colab": {
          "base_uri": "https://localhost:8080/"
        },
        "id": "eUnNZukItyxw",
        "outputId": "026fdf6c-b6c9-489b-e8c0-677c1751b34d"
      },
      "outputs": [
        {
          "output_type": "stream",
          "name": "stdout",
          "text": [
            "1&2&3&4&5\n"
          ]
        }
      ],
      "source": [
        "def transform_spaces(string, char):\n",
        "    # Transforma a string em uma lista de números separados por espaços\n",
        "    numbers = list(map(int, string.split()))\n",
        "    \n",
        "    # Junta os números e adiciona o caractere desejado\n",
        "    result = char.join(map(str, numbers))\n",
        "    \n",
        "    return result\n",
        "\n",
        "# Exemplo de uso\n",
        "string = \"1 2 3 4 5\"\n",
        "char = \"&\"\n",
        "\n",
        "transformed_string = transform_spaces(string, char)\n",
        "print(transformed_string)"
      ]
    }
  ]
}